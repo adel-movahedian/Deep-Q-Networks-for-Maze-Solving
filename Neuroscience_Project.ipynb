{
 "cells": [
  {
   "cell_type": "markdown",
   "id": "25a2f6b7-3673-4309-858f-9ad378991122",
   "metadata": {},
   "source": [
    "<center><h1>Neuroscience Final Project</h1></center>\n",
    "<center><h2>Deep Q Networks</h2></center>"
   ]
  },
  {
   "cell_type": "markdown",
   "id": "50719fc4-e0dc-4783-8720-bf973172d7a3",
   "metadata": {},
   "source": [
    "In this notebook, we are going to get familiar with Deep Q Networks. You have been introduced to Reinforcement Learning in the course. Deep Q Networks are an entension of Reinforcement Learning were we incorporate Deep Neural Networks in our policy enhacement procedure.\n",
    "\n",
    "We also implement an Agent in an online learning environment, meaning that the agent has no initial memory of the rewards in each state. We go through the environment based on our policy and store the observed rewards and corresponding state in the memory of the agent\n",
    "\n",
    "Finally, we utilize the Agent in a practical Maze Solving problem. The agent is prompted to iterate the maze from a defined starting point to an ending point, maximing the profit from the total route."
   ]
  },
  {
   "cell_type": "markdown",
   "id": "19d0648a-c633-4463-92a8-4406ccd7b23a",
   "metadata": {},
   "source": [
    "**Name** : adel movahedian\n",
    "\n",
    "**Student ID**: 400102074"
   ]
  },
  {
   "cell_type": "markdown",
   "id": "aa2ab6b3-620c-41a4-a279-c9b36654c3c5",
   "metadata": {},
   "source": [
    "## Importing the necessary packages"
   ]
  },
  {
   "cell_type": "code",
   "execution_count": 1,
   "id": "a128a4f2-b79c-4a19-8cef-881940edd941",
   "metadata": {},
   "outputs": [],
   "source": [
    "import torch as T\n",
    "import torch.nn as nn\n",
    "import torch.nn.functional as F\n",
    "import torch.optim as optim\n",
    "import numpy as np"
   ]
  },
  {
   "cell_type": "markdown",
   "id": "a6978916-8630-46b6-8825-3ea596594e9e",
   "metadata": {},
   "source": [
    "## Creating the Deep Q Network"
   ]
  },
  {
   "cell_type": "code",
   "execution_count": 2,
   "id": "b1a399fd-abb4-40bc-8a30-eadc2ac090a9",
   "metadata": {},
   "outputs": [],
   "source": [
    "class DeepQNetwork(nn.Module):\n",
    "    def __init__(self, lr, input_dims, fc1_dims, fc2_dims,\n",
    "                 n_actions):\n",
    "        super(DeepQNetwork, self).__init__()\n",
    "        self.input_dims = input_dims\n",
    "        self.fc1_dims = fc1_dims\n",
    "        self.fc2_dims = fc2_dims\n",
    "        self.n_actions = n_actions\n",
    "        self.fc1 = nn.Linear(*input_dims,fc1_dims)\n",
    "        self.fc2 = nn.Linear(fc1_dims, fc2_dims)\n",
    "        self.fc3 = nn.Linear(fc2_dims, n_actions)\n",
    "        self.optimizer = optim.Adam(self.parameters(), lr=lr)\n",
    "        self.loss = nn.MSELoss()\n",
    "        self.device = T.device('cuda:0' if T.cuda.is_available() else 'cpu')\n",
    "        self.to(self.device)\n",
    "\n",
    "\n",
    "    def forward(self, state):\n",
    "        # Calculate the forward pass. Use Proper non-linear activation function between the linear layers\n",
    "        x = F.relu(self.fc1(state))\n",
    "        x = F.relu(self.fc2(x))\n",
    "        actions = self.fc3(x)\n",
    "        \n",
    "        return actions"
   ]
  },
  {
   "cell_type": "markdown",
   "id": "43badcac-20b4-454e-a011-8248410a60e9",
   "metadata": {},
   "source": [
    "## Creating the Agent"
   ]
  },
  {
   "cell_type": "code",
   "execution_count": 3,
   "id": "8d7244ea-6e78-4715-9520-e6e4e20ab376",
   "metadata": {},
   "outputs": [],
   "source": [
    "class Agent:\n",
    "    def __init__(self, gamma, epsilon, lr, input_dims, batch_size, n_actions,\n",
    "                 max_mem_size=100000, eps_end=0.05, eps_dec=5e-4):\n",
    "        self.gamma = gamma\n",
    "        self.epsilon = epsilon\n",
    "        self.eps_min = eps_end\n",
    "        self.eps_dec = eps_dec\n",
    "        self.lr = lr\n",
    "        self.action_space = [i for i in range(n_actions)]\n",
    "        self.mem_size = max_mem_size\n",
    "        self.batch_size = batch_size\n",
    "        self.mem_cntr = 0\n",
    "        self.iter_cntr = 0\n",
    "\n",
    "        # Create an instance of te Deep Q network with 256 neurons in each of its hidden layers\n",
    "        self.Q_eval = DeepQNetwork(lr, n_actions=n_actions, input_dims=input_dims, fc1_dims=256, fc2_dims=256)\n",
    "        \n",
    "        self.state_memory = np.zeros((self.mem_size, *input_dims), dtype=np.float32)\n",
    "        self.new_state_memory = np.zeros((self.mem_size, *input_dims), dtype=np.float32)\n",
    "        self.action_memory = np.zeros(self.mem_size, dtype=np.int32)\n",
    "        self.reward_memory = np.zeros(self.mem_size, dtype=np.float32)\n",
    "        self.terminal_memory = np.zeros(self.mem_size, dtype=np.bool_)  ###bool?\n",
    "\n",
    "    \n",
    "    # Store one episode alongside its reward, state, next_state\n",
    "    def store_transition(self, state, action, reward, state_, terminal):\n",
    "        index = self.mem_cntr % self.mem_size\n",
    "        self.state_memory[index] = state\n",
    "        self.new_state_memory[index] = state_\n",
    "        self.reward_memory[index] = reward\n",
    "        self.action_memory[index] = action\n",
    "        self.terminal_memory[index] = terminal\n",
    "\n",
    "        self.mem_cntr += 1\n",
    "\n",
    "    \n",
    "    # Choose the best action with probability (1 - epsilon), otherwise choose a random direction from the action space\n",
    "    # The best action is defined as the maximum output of the Deep Q Network\n",
    "    def choose_action(self, observation):\n",
    "        observation = T.tensor([observation]).to(self.Q_eval.device)\n",
    "        if np.random.random() > self.epsilon:\n",
    "            actions = self.Q_eval.forward(observation)\n",
    "            action = T.argmax(actions).item()\n",
    "        else:\n",
    "            action = np.random.choice(self.action_space)\n",
    "        return action\n",
    "\n",
    "\n",
    "    # Train the Deep Q Network based on the new observations\n",
    "    # The network must learn the target Q values through regression\n",
    "    def learn(self):\n",
    "        # Simply ignore the training phase if there is not enough memory stored yet\n",
    "        if self.mem_cntr < self.batch_size:\n",
    "            return\n",
    "\n",
    "        self.Q_eval.optimizer.zero_grad()\n",
    "\n",
    "        max_mem = min(self.mem_cntr, self.mem_size)\n",
    "        \n",
    "        # Choose a random batch of data from the memory\n",
    "        batch = np.random.choice(max_mem, self.batch_size, replace=False)\n",
    "\n",
    "        batch_index = np.arange(self.batch_size, dtype=np.int32)\n",
    "\n",
    "        state_batch = T.tensor(self.state_memory[batch]).to(self.Q_eval.device)\n",
    "        new_state_batch = T.tensor(\n",
    "                self.new_state_memory[batch]).to(self.Q_eval.device)\n",
    "        action_batch = self.action_memory[batch]\n",
    "        reward_batch = T.tensor(\n",
    "                self.reward_memory[batch]).to(self.Q_eval.device)\n",
    "        terminal_batch = T.tensor(\n",
    "                self.terminal_memory[batch]).to(self.Q_eval.device)\n",
    "\n",
    "        # Current state Q-value as predicted by the network\n",
    "        # Note to filter the matrix to only q-values corresponding to our \"action_batch\"\n",
    "        q_eval = self.Q_eval.forward(state_batch)[batch_index, action_batch]\n",
    "\n",
    "        # Next state Q-value as predicted by the network for all possible next actions\n",
    "        q_next = self.Q_eval.forward(new_state_batch)\n",
    "        q_next[terminal_batch] = 0.0\n",
    "        \n",
    "        # The target Q-value of our current state with a discount factor of gamma\n",
    "        q_target = reward_batch + self.gamma * T.max(q_next, dim=1)[0]\n",
    "\n",
    "        # Make the network learn this target Q-value via a proper definitio of loss function\n",
    "        loss = self.Q_eval.loss(q_target, q_eval).to(self.Q_eval.device)\n",
    "        loss.backward()\n",
    "        self.Q_eval.optimizer.step()\n",
    "\n",
    "        self.iter_cntr += 1\n",
    "\n",
    "        # Reduce the epsilon by its decay factor it possible\n",
    "        self.epsilon = self.epsilon - self.eps_dec if self.epsilon > self.eps_min else self.eps_min"
   ]
  },
  {
   "cell_type": "markdown",
   "id": "773635ba-85f4-4937-8e1a-7e54bdbb2444",
   "metadata": {},
   "source": [
    "## Working with the Maze environment"
   ]
  },
  {
   "cell_type": "code",
   "execution_count": 4,
   "id": "b2592342-df23-49be-9fee-c5ac5a1fbd56",
   "metadata": {},
   "outputs": [
    {
     "name": "stdout",
     "output_type": "stream",
     "text": [
      "episode  0 score 763.00 average score 763.00 epsilon 0.20\n",
      "episode  1 score 98.00 average score 430.50 epsilon 0.20\n",
      "episode  2 score 2545.00 average score 1135.33 epsilon 0.20\n",
      "episode  3 score 2074.00 average score 1370.00 epsilon 0.20\n",
      "episode  4 score 674.00 average score 1230.80 epsilon 0.20\n",
      "episode  5 score 1319.00 average score 1245.50 epsilon 0.20\n",
      "episode  6 score 239.00 average score 1101.71 epsilon 0.20\n",
      "episode  7 score 1711.00 average score 1177.88 epsilon 0.20\n",
      "episode  8 score 1991.00 average score 1268.22 epsilon 0.20\n",
      "episode  9 score 1948.00 average score 1336.20 epsilon 0.20\n",
      "episode  10 score 2988.00 average score 1486.36 epsilon 0.20\n",
      "episode  11 score 2762.00 average score 1592.67 epsilon 0.20\n",
      "episode  12 score 2256.00 average score 1643.69 epsilon 0.20\n",
      "episode  13 score 2404.00 average score 1698.00 epsilon 0.20\n",
      "episode  14 score 3686.00 average score 1830.53 epsilon 0.20\n",
      "episode  15 score 3545.00 average score 1937.69 epsilon 0.20\n",
      "episode  16 score 2366.00 average score 1962.88 epsilon 0.20\n",
      "episode  17 score 2886.00 average score 2014.17 epsilon 0.20\n",
      "episode  18 score 3746.00 average score 2105.32 epsilon 0.20\n",
      "episode  19 score 5087.00 average score 2254.40 epsilon 0.20\n"
     ]
    },
    {
     "data": {
      "image/png": "[encoded data removed]",
      "text/plain": [
       "<Figure size 640x480 with 1 Axes>"
      ]
     },
     "metadata": {},
     "output_type": "display_data"
    }
   ],
   "source": [
    "import matplotlib.pyplot as plt\n",
    "from maze import MazeEnvironment\n",
    "import warnings\n",
    "warnings.filterwarnings('ignore')\n",
    "\n",
    "# Create a maze environment\n",
    "# You can create a new one or use the files stored in directory mazes to load a maze\n",
    "env = MazeEnvironment(dim=50, maze_path='maze1.npy')\n",
    "\n",
    "agent = Agent(gamma=0.99, epsilon=1.0, batch_size=6, n_actions=4, eps_end=0.2, input_dims=[2], lr=0.001) ####made changes\n",
    "scores = []\n",
    "n_games = 20\n",
    "\n",
    "for i in range(n_games):\n",
    "    score = 0\n",
    "    done = False\n",
    "    observation = env.reset()\n",
    "    counter = 0\n",
    "    while not done:\n",
    "        counter += 1\n",
    "        # If performed 1000 moves and didn't finish the maze, reset the environment\n",
    "        if (counter == 1000):\n",
    "            counter = 0\n",
    "            score = 0\n",
    "            observation = env.reset()\n",
    "\n",
    "        # Make the agent choose an action\n",
    "        action = agent.choose_action(observation)\n",
    "\n",
    "        # Retrieve the reward and next_state from the envirinment\n",
    "        observation_, reward, done = env.step(action)\n",
    "        \n",
    "        score += reward\n",
    "\n",
    "        # Store the current episode in the memory\n",
    "        agent.store_transition(observation, action, reward, observation_, done)\n",
    "\n",
    "        # Learn the current episode\n",
    "        agent.learn()\n",
    "\n",
    "        # Change the next state to the current state\n",
    "        observation = observation_\n",
    "        \n",
    "    scores.append(score)\n",
    "\n",
    "    avg_score = np.mean(scores[-100:])\n",
    "\n",
    "    print('episode ', i, 'score %.2f' % score, 'average score %.2f' % avg_score, 'epsilon %.2f' % agent.epsilon)\n",
    "\n",
    "plt.plot(scores, label='Score per Episode')\n",
    "plt.xlabel('Episode')\n",
    "plt.ylabel('Score')\n",
    "plt.title('Score Progression')\n",
    "plt.legend()\n",
    "plt.grid(True)\n",
    "plt.show()"
   ]
  },
  {
   "cell_type": "markdown",
   "id": "c52ae54d-3c4d-4d3d-82de-6d9a7ec5efff",
   "metadata": {},
   "source": [
    "## Report"
   ]
  },
  {
   "cell_type": "markdown",
   "id": "c970a058-17f5-470f-b402-1e4cfc59c32b",
   "metadata": {},
   "source": [
    "Try to manipulate constants such as batch_size, epsilon, gamma, .... Try to achieve the maximum score.\n",
    "\n",
    "Grading will not be based on the best scores. However, higher scores can bring bonus grade!\n",
    "\n",
    "Plot the incrementation of your score through n games and try to justify the patterns."
   ]
  },
  {
   "cell_type": "markdown",
   "id": "89a409d0-1904-4e1f-ad7c-f6bb931d7caa",
   "metadata": {},
   "source": [
    "## (Bonus) Target Q Network"
   ]
  },
  {
   "cell_type": "markdown",
   "id": "120c2667-b131-465e-94af-e2e6125ead2c",
   "metadata": {},
   "source": [
    "Instead of calculating the target q-value using the formula presented, you can use anonther Deep Neural Network to predict the target Q-values via regression!\n",
    "\n",
    "Implementing the target Q network alonside the eval Q network can lead to more steady behavior of the final score."
   ]
  }
 ],
 "metadata": {
  "kernelspec": {
   "display_name": "Python 3 (ipykernel)",
   "language": "python",
   "name": "python3"
  },
  "language_info": {
   "codemirror_mode": {
    "name": "ipython",
    "version": 3
   },
   "file_extension": ".py",
   "mimetype": "text/x-python",
   "name": "python",
   "nbconvert_exporter": "python",
   "pygments_lexer": "ipython3",
   "version": "3.11.3"
  }
 },
 "nbformat": 4,
 "nbformat_minor": 5
}
